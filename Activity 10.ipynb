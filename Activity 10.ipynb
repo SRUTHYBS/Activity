{
 "cells": [
  {
   "cell_type": "markdown",
   "id": "7add50ec",
   "metadata": {},
   "source": [
    "# Importing Libraries"
   ]
  },
  {
   "cell_type": "code",
   "execution_count": 1,
   "id": "a0291e1e",
   "metadata": {},
   "outputs": [],
   "source": [
    "import numpy as np\n",
    "import pandas as pd"
   ]
  },
  {
   "cell_type": "markdown",
   "id": "f9cf1da1",
   "metadata": {},
   "source": [
    "# Loading Dataset"
   ]
  },
  {
   "cell_type": "code",
   "execution_count": 2,
   "id": "cbfc3007",
   "metadata": {},
   "outputs": [
    {
     "data": {
      "text/html": [
       "<div>\n",
       "<style scoped>\n",
       "    .dataframe tbody tr th:only-of-type {\n",
       "        vertical-align: middle;\n",
       "    }\n",
       "\n",
       "    .dataframe tbody tr th {\n",
       "        vertical-align: top;\n",
       "    }\n",
       "\n",
       "    .dataframe thead th {\n",
       "        text-align: right;\n",
       "    }\n",
       "</style>\n",
       "<table border=\"1\" class=\"dataframe\">\n",
       "  <thead>\n",
       "    <tr style=\"text-align: right;\">\n",
       "      <th></th>\n",
       "      <th>duration</th>\n",
       "      <th>protocol_type</th>\n",
       "      <th>service</th>\n",
       "      <th>flag</th>\n",
       "      <th>src_bytes</th>\n",
       "      <th>dst_bytes</th>\n",
       "      <th>land</th>\n",
       "      <th>wrong_fragment</th>\n",
       "      <th>urgent</th>\n",
       "      <th>hot</th>\n",
       "      <th>...</th>\n",
       "      <th>dst_host_srv_count</th>\n",
       "      <th>dst_host_same_srv_rate</th>\n",
       "      <th>dst_host_diff_srv_rate</th>\n",
       "      <th>dst_host_same_src_port_rate</th>\n",
       "      <th>dst_host_srv_diff_host_rate</th>\n",
       "      <th>dst_host_serror_rate</th>\n",
       "      <th>dst_host_srv_serror_rate</th>\n",
       "      <th>dst_host_rerror_rate</th>\n",
       "      <th>dst_host_srv_rerror_rate</th>\n",
       "      <th>intrusion</th>\n",
       "    </tr>\n",
       "  </thead>\n",
       "  <tbody>\n",
       "    <tr>\n",
       "      <th>0</th>\n",
       "      <td>0</td>\n",
       "      <td>b'udp'</td>\n",
       "      <td>b'domain_u'</td>\n",
       "      <td>b'SF'</td>\n",
       "      <td>44</td>\n",
       "      <td>134</td>\n",
       "      <td>0</td>\n",
       "      <td>0</td>\n",
       "      <td>0</td>\n",
       "      <td>0</td>\n",
       "      <td>...</td>\n",
       "      <td>89</td>\n",
       "      <td>0.64</td>\n",
       "      <td>0.01</td>\n",
       "      <td>0.01</td>\n",
       "      <td>0.00</td>\n",
       "      <td>0.0</td>\n",
       "      <td>0.0</td>\n",
       "      <td>0.0</td>\n",
       "      <td>0.0</td>\n",
       "      <td>b'normal.'</td>\n",
       "    </tr>\n",
       "    <tr>\n",
       "      <th>1</th>\n",
       "      <td>0</td>\n",
       "      <td>b'tcp'</td>\n",
       "      <td>b'smtp'</td>\n",
       "      <td>b'SF'</td>\n",
       "      <td>1489</td>\n",
       "      <td>385</td>\n",
       "      <td>0</td>\n",
       "      <td>0</td>\n",
       "      <td>0</td>\n",
       "      <td>0</td>\n",
       "      <td>...</td>\n",
       "      <td>116</td>\n",
       "      <td>1.00</td>\n",
       "      <td>0.00</td>\n",
       "      <td>0.20</td>\n",
       "      <td>0.02</td>\n",
       "      <td>0.0</td>\n",
       "      <td>0.0</td>\n",
       "      <td>0.0</td>\n",
       "      <td>0.0</td>\n",
       "      <td>b'normal.'</td>\n",
       "    </tr>\n",
       "    <tr>\n",
       "      <th>2</th>\n",
       "      <td>0</td>\n",
       "      <td>b'icmp'</td>\n",
       "      <td>b'ecr_i'</td>\n",
       "      <td>b'SF'</td>\n",
       "      <td>1032</td>\n",
       "      <td>0</td>\n",
       "      <td>0</td>\n",
       "      <td>0</td>\n",
       "      <td>0</td>\n",
       "      <td>0</td>\n",
       "      <td>...</td>\n",
       "      <td>255</td>\n",
       "      <td>1.00</td>\n",
       "      <td>0.00</td>\n",
       "      <td>1.00</td>\n",
       "      <td>0.00</td>\n",
       "      <td>0.0</td>\n",
       "      <td>0.0</td>\n",
       "      <td>0.0</td>\n",
       "      <td>0.0</td>\n",
       "      <td>b'smurf.'</td>\n",
       "    </tr>\n",
       "    <tr>\n",
       "      <th>3</th>\n",
       "      <td>0</td>\n",
       "      <td>b'icmp'</td>\n",
       "      <td>b'ecr_i'</td>\n",
       "      <td>b'SF'</td>\n",
       "      <td>1032</td>\n",
       "      <td>0</td>\n",
       "      <td>0</td>\n",
       "      <td>0</td>\n",
       "      <td>0</td>\n",
       "      <td>0</td>\n",
       "      <td>...</td>\n",
       "      <td>255</td>\n",
       "      <td>1.00</td>\n",
       "      <td>0.00</td>\n",
       "      <td>1.00</td>\n",
       "      <td>0.00</td>\n",
       "      <td>0.0</td>\n",
       "      <td>0.0</td>\n",
       "      <td>0.0</td>\n",
       "      <td>0.0</td>\n",
       "      <td>b'smurf.'</td>\n",
       "    </tr>\n",
       "    <tr>\n",
       "      <th>4</th>\n",
       "      <td>0</td>\n",
       "      <td>b'tcp'</td>\n",
       "      <td>b'private'</td>\n",
       "      <td>b'S0'</td>\n",
       "      <td>0</td>\n",
       "      <td>0</td>\n",
       "      <td>0</td>\n",
       "      <td>0</td>\n",
       "      <td>0</td>\n",
       "      <td>0</td>\n",
       "      <td>...</td>\n",
       "      <td>6</td>\n",
       "      <td>0.02</td>\n",
       "      <td>0.07</td>\n",
       "      <td>0.00</td>\n",
       "      <td>0.00</td>\n",
       "      <td>1.0</td>\n",
       "      <td>1.0</td>\n",
       "      <td>0.0</td>\n",
       "      <td>0.0</td>\n",
       "      <td>b'neptune.'</td>\n",
       "    </tr>\n",
       "  </tbody>\n",
       "</table>\n",
       "<p>5 rows × 42 columns</p>\n",
       "</div>"
      ],
      "text/plain": [
       "   duration protocol_type      service   flag  src_bytes  dst_bytes  land  \\\n",
       "0         0        b'udp'  b'domain_u'  b'SF'         44        134     0   \n",
       "1         0        b'tcp'      b'smtp'  b'SF'       1489        385     0   \n",
       "2         0       b'icmp'     b'ecr_i'  b'SF'       1032          0     0   \n",
       "3         0       b'icmp'     b'ecr_i'  b'SF'       1032          0     0   \n",
       "4         0        b'tcp'   b'private'  b'S0'          0          0     0   \n",
       "\n",
       "   wrong_fragment  urgent  hot  ...  dst_host_srv_count  \\\n",
       "0               0       0    0  ...                  89   \n",
       "1               0       0    0  ...                 116   \n",
       "2               0       0    0  ...                 255   \n",
       "3               0       0    0  ...                 255   \n",
       "4               0       0    0  ...                   6   \n",
       "\n",
       "   dst_host_same_srv_rate  dst_host_diff_srv_rate  \\\n",
       "0                    0.64                    0.01   \n",
       "1                    1.00                    0.00   \n",
       "2                    1.00                    0.00   \n",
       "3                    1.00                    0.00   \n",
       "4                    0.02                    0.07   \n",
       "\n",
       "   dst_host_same_src_port_rate  dst_host_srv_diff_host_rate  \\\n",
       "0                         0.01                         0.00   \n",
       "1                         0.20                         0.02   \n",
       "2                         1.00                         0.00   \n",
       "3                         1.00                         0.00   \n",
       "4                         0.00                         0.00   \n",
       "\n",
       "   dst_host_serror_rate  dst_host_srv_serror_rate  dst_host_rerror_rate  \\\n",
       "0                   0.0                       0.0                   0.0   \n",
       "1                   0.0                       0.0                   0.0   \n",
       "2                   0.0                       0.0                   0.0   \n",
       "3                   0.0                       0.0                   0.0   \n",
       "4                   1.0                       1.0                   0.0   \n",
       "\n",
       "   dst_host_srv_rerror_rate    intrusion  \n",
       "0                       0.0   b'normal.'  \n",
       "1                       0.0   b'normal.'  \n",
       "2                       0.0    b'smurf.'  \n",
       "3                       0.0    b'smurf.'  \n",
       "4                       0.0  b'neptune.'  \n",
       "\n",
       "[5 rows x 42 columns]"
      ]
     },
     "execution_count": 2,
     "metadata": {},
     "output_type": "execute_result"
    }
   ],
   "source": [
    "data=pd.read_csv(\"Downloads/Data science/tcp-connection (1).csv\")\n",
    "data.head()"
   ]
  },
  {
   "cell_type": "code",
   "execution_count": 3,
   "id": "0b66a11e",
   "metadata": {},
   "outputs": [
    {
     "data": {
      "text/plain": [
       "duration                       0\n",
       "protocol_type                  0\n",
       "service                        0\n",
       "flag                           0\n",
       "src_bytes                      0\n",
       "dst_bytes                      0\n",
       "land                           0\n",
       "wrong_fragment                 0\n",
       "urgent                         0\n",
       "hot                            0\n",
       "num_failed_logins              0\n",
       "logged_in                      0\n",
       "num_compromised                0\n",
       "root_shell                     0\n",
       "su_attempted                   0\n",
       "num_root                       0\n",
       "num_file_creations             0\n",
       "num_shells                     0\n",
       "num_access_files               0\n",
       "num_outbound_cmds              0\n",
       "is_host_login                  0\n",
       "is_guest_login                 0\n",
       "count                          0\n",
       "srv_count                      0\n",
       "serror_rate                    0\n",
       "srv_serrer_rate                0\n",
       "rerror_rate                    0\n",
       "srv_rerror_rate                0\n",
       "same_srv_rate                  0\n",
       "diff_srv_rate                  0\n",
       "srv_diff_host_rate             0\n",
       "dst_host_count                 0\n",
       "dst_host_srv_count             0\n",
       "dst_host_same_srv_rate         0\n",
       "dst_host_diff_srv_rate         0\n",
       "dst_host_same_src_port_rate    0\n",
       "dst_host_srv_diff_host_rate    0\n",
       "dst_host_serror_rate           0\n",
       "dst_host_srv_serror_rate       0\n",
       "dst_host_rerror_rate           0\n",
       "dst_host_srv_rerror_rate       0\n",
       "intrusion                      0\n",
       "dtype: int64"
      ]
     },
     "execution_count": 3,
     "metadata": {},
     "output_type": "execute_result"
    }
   ],
   "source": [
    "data.isna().sum()"
   ]
  },
  {
   "cell_type": "code",
   "execution_count": 4,
   "id": "266b6d07",
   "metadata": {},
   "outputs": [
    {
     "data": {
      "text/plain": [
       "Index(['duration', 'protocol_type', 'service', 'flag', 'src_bytes',\n",
       "       'dst_bytes', 'land', 'wrong_fragment', 'urgent', 'hot',\n",
       "       'num_failed_logins', 'logged_in', 'num_compromised', 'root_shell',\n",
       "       'su_attempted', 'num_root', 'num_file_creations', 'num_shells',\n",
       "       'num_access_files', 'num_outbound_cmds', 'is_host_login',\n",
       "       'is_guest_login', 'count', 'srv_count', 'serror_rate',\n",
       "       'srv_serrer_rate', 'rerror_rate', 'srv_rerror_rate', 'same_srv_rate',\n",
       "       'diff_srv_rate', 'srv_diff_host_rate', 'dst_host_count',\n",
       "       'dst_host_srv_count', 'dst_host_same_srv_rate',\n",
       "       'dst_host_diff_srv_rate', 'dst_host_same_src_port_rate',\n",
       "       'dst_host_srv_diff_host_rate', 'dst_host_serror_rate',\n",
       "       'dst_host_srv_serror_rate', 'dst_host_rerror_rate',\n",
       "       'dst_host_srv_rerror_rate', 'intrusion'],\n",
       "      dtype='object')"
      ]
     },
     "execution_count": 4,
     "metadata": {},
     "output_type": "execute_result"
    }
   ],
   "source": [
    "data.columns"
   ]
  },
  {
   "cell_type": "code",
   "execution_count": 5,
   "id": "1bb4cad1",
   "metadata": {},
   "outputs": [
    {
     "data": {
      "text/plain": [
       "(494021, 42)"
      ]
     },
     "execution_count": 5,
     "metadata": {},
     "output_type": "execute_result"
    }
   ],
   "source": [
    "data.shape"
   ]
  },
  {
   "cell_type": "code",
   "execution_count": 6,
   "id": "c3af07b4",
   "metadata": {},
   "outputs": [
    {
     "name": "stdout",
     "output_type": "stream",
     "text": [
      "duration [    0  5063  2476 ... 15610   897 13348]\n",
      "protocol_type [\"b'udp'\" \"b'tcp'\" \"b'icmp'\"]\n",
      "service [\"b'domain_u'\" \"b'smtp'\" \"b'ecr_i'\" \"b'private'\" \"b'http'\" \"b'auth'\"\n",
      " \"b'ftp_data'\" \"b'other'\" \"b'eco_i'\" \"b'finger'\" \"b'uucp'\" \"b'name'\"\n",
      " \"b'ftp'\" \"b'ssh'\" \"b'vmnet'\" \"b'remote_job'\" \"b'urp_i'\" \"b'hostnames'\"\n",
      " \"b'kshell'\" \"b'time'\" \"b'supdup'\" \"b'ctf'\" \"b'telnet'\" \"b'link'\"\n",
      " \"b'systat'\" \"b'sql_net'\" \"b'printer'\" \"b'ntp_u'\" \"b'exec'\" \"b'whois'\"\n",
      " \"b'netbios_ssn'\" \"b'csnet_ns'\" \"b'domain'\" \"b'shell'\" \"b'iso_tsap'\"\n",
      " \"b'daytime'\" \"b'netbios_ns'\" \"b'imap4'\" \"b'gopher'\" \"b'nntp'\" \"b'pop_3'\"\n",
      " \"b'mtp'\" \"b'netbios_dgm'\" \"b'http_443'\" \"b'efs'\" \"b'pop_2'\" \"b'X11'\"\n",
      " \"b'login'\" \"b'echo'\" \"b'uucp_path'\" \"b'klogin'\" \"b'Z39_50'\" \"b'rje'\"\n",
      " \"b'courier'\" \"b'nnsp'\" \"b'discard'\" \"b'ldap'\" \"b'IRC'\" \"b'netstat'\"\n",
      " \"b'bgp'\" \"b'sunrpc'\" \"b'urh_i'\" \"b'tim_i'\" \"b'tftp_u'\" \"b'red_i'\"\n",
      " \"b'pm_dump'\"]\n",
      "flag [\"b'SF'\" \"b'S0'\" \"b'REJ'\" \"b'RSTR'\" \"b'RSTO'\" \"b'SH'\" \"b'S1'\" \"b'S3'\"\n",
      " \"b'S2'\" \"b'RSTOS0'\" \"b'OTH'\"]\n",
      "src_bytes [  44 1489 1032 ... 2205 2736 2152]\n",
      "dst_bytes [  134   385     0 ... 12367 34661  3770]\n",
      "land [0 1]\n",
      "wrong_fragment [0 3 1]\n",
      "urgent [0 3 1 2]\n",
      "hot [ 0  5  2  1 28  4  6 30 19 14 22 20  7  3 12 24 17 18  9 15 16 10]\n",
      "num_failed_logins [0 1 2 3 4 5]\n",
      "logged_in [0 1]\n",
      "num_compromised [  0   1   2  11   4  21   3  13 767  18  22   7 275   6  38   5 102 238\n",
      " 884   9  12  16 281]\n",
      "root_shell [0 1]\n",
      "su_attempted [0 2 1]\n",
      "num_root [  0   1   9   6   5   2  12   3 857  39 306  54   4   7 119 268 993  16\n",
      "  14 278]\n",
      "num_file_creations [ 0  1 28  2  4 10 25 22  9 14 16  8 21 15  7 20  5 12]\n",
      "num_shells [0 1 2]\n",
      "num_access_files [0 1 4 2 6 3 8]\n",
      "num_outbound_cmds [0]\n",
      "is_host_login [0]\n",
      "is_guest_login [0 1]\n",
      "count [ 64   1 511 192 456 509 275   3 510  95  12 466 288 484 272   5   2 211\n",
      " 116   6  32 452 221 208 130  99 124 285 507 149 103  17 139 119  34  10\n",
      "   4 244  87 123 128 464 481  98 458 479 449 278 107 451 478 216 258 136\n",
      " 104  22  11 240 225 237 125 138  21 118 182 112 281 289 480 296 292 300\n",
      " 133 260 508 280  23 142  25 227 129 109 145  19  27 214 286 298 239  16\n",
      " 202 217 108  30  43 206 266  15 283  26 246  36 111 141 468 122 457 219\n",
      " 223 505 137   9 252 235 238 212 224 265 234 102 205  14 291 117 241 146\n",
      " 171 213 147   8   7 148 207 257 443 295  24 269 444 143  29 204 106 113\n",
      " 467 284 448 198 282 203 228 132 242 248 115 134 144 255 253 447 215 158\n",
      " 454 140 293 270  18 114 460 131  85 236 121 180 247  20 268 245 262 261\n",
      " 200 185 231 276  49 210 126 290 101 279 120 179 226 287 110 256 463 477\n",
      " 486 465 243 483 476 267 229 105 472 436 254 461 446 249 504  28  89 232\n",
      " 450 230  78 181 274 169 271 150 294  13  37  46 251 163 178 196  88  65\n",
      " 233  94 259 127 209  97 273  92 264 218  79  63 498 220 184 462 506 441\n",
      " 322 482  35 277  31  96 250 299 455  39  40 469 453  70 222  71 153 473\n",
      "  68 445 168  47 297 187 190 491 459  76 135 439  38 160 471  84 193  69\n",
      "  61 495 199  33  45 442 485  74 100  44 487  54 301  73 174 201 494  82\n",
      " 475  42  51 197 263  81  77 167 156  48  93 195 188 493 186  41  50  55\n",
      " 503  53 501  59 177  52 434 170  83 437  90 157 490 159  91 500 176 166\n",
      " 194 175 499 164 390  62  60 154 183 435 432 474 312 189 173 330 151 422\n",
      " 155  57 162  80 496  66  72 492 348  58 191 165  86  56  75 440 152 438\n",
      " 489 161 357 363 320 172 374 380  67 502 411 365 410 370 497 389 302 430\n",
      " 470 400 323 319 383 412 488 339 373 405 379 358 313 401 343 429 315 355\n",
      "   0 306 335 327 349 433 428 419 321 399 340 413 381 351 305 386 376 424\n",
      " 333 311 309 425 314 356 360 395 369 406 325 303 407 391 316 403 345 346\n",
      " 307 409 324 420 367 392 397 427 310 354 304 329 308 415 421 375 414 418\n",
      " 334 371 393 431 394 352 359 350 402 326 417 385 337 347 361 404 398 362\n",
      " 377 317 388 387]\n",
      "srv_count [142   3 511   6 456 509   1 510   9  12 466  17 484  10   8   2  20  32\n",
      " 452  15   4  13   5   7 507  18  36  19 464 481  16 458 479 449  14 451\n",
      "  11 478  21  41 480 508  28  33  27 157  30  43  31  23  38 468  57 457\n",
      " 505  52  25  44 443  24  29 444 467 448  22 447 454 140 460 147  65  26\n",
      "  49  39 463  42 477 486 465 483 476 472 436 113 461  48 446  85 504 450\n",
      "  83  37  64  79  40  35  34 498 462 506 441 322 482 455  59 105 469 453\n",
      "  58  70 151 473  68 445  80  47  82 491 459  76 439 471 124  60 495  45\n",
      " 442 200 485  74  91 487 134 301  73  50 494 475  53  51  63  81 290 115\n",
      "  98 493  46 233  96  89 250 101  55  95  71 503 501 270 202 197  56 434\n",
      " 437 490 500 499 145  61  90 112  69 148 122 435 432 474 108 123 125 312\n",
      " 266 143 225 114 422 230 129  92 130 135 156 496  99 144  94 116  66 492\n",
      " 196 139 348  88 169  97 227 111  54 152 295  78 161 162 102 201 153 128\n",
      " 263 440  87 150 166 117  67 119 438 489 313  72 149 138 132 357 154 100\n",
      " 175 363 278 206 103 106 374 127 186 170  93 502 411 255 133 118  86 126\n",
      " 209 275 120 210 410  77 370 268 260 110 141 228 237 238 497 234 223 190\n",
      " 104 167 136 282 430 163 470  62 400 306 323 215 195 245 155  75 191 121\n",
      " 131 212 291 273 168 236 383 412  84 146 488 339 365 109 261 172 262 320\n",
      " 239 221 203 373 207 158 180 159 276 160 405 289 243 379 358 265 281 248\n",
      " 183 164 297 330 401 300 343 429 253 240 315 244   0 305 193 165 177 285\n",
      " 199 222 327 107 380 211 269 252 216 187 349 433 232 428 213 214 272 218\n",
      " 399 413 137 198 381 220 185 205 351 176 229 256 386 189 376 171 182 224\n",
      " 184 231 257 235 246 424 333 310 264 309 314 356 219 292 181 406 294 217\n",
      " 319 254 178 179 302 277 407 391 403 242 267 346 307 324 420 298 367 287\n",
      " 251 392 249 173 397 427 274 354 304 329 316 192 308 280 283 421 414 241\n",
      " 418 334 371 311 293 247 393 431 394 352 226 355 402 258 359 296 325 286\n",
      " 417 204 303 337 347 361 404 398 208 362 174 284 288 377 317 340 335 388\n",
      " 387 350]\n",
      "serror_rate [0.   1.   0.19 0.17 0.15 0.05 0.13 0.2  0.08 0.11 0.03 0.54 0.04 0.1\n",
      " 0.09 0.12 0.01 0.99 0.67 0.82 0.68 0.06 0.5  0.18 0.83 0.14 0.88 0.58\n",
      " 0.07 0.51 0.29 0.38 0.02 0.65 0.21 0.71 0.22 0.92 0.93 0.6  0.25 0.74\n",
      " 0.52 0.98 0.23 0.66 0.55 0.3  0.24 0.27 0.44 0.81 0.16 0.31 0.53 0.64\n",
      " 0.33 0.69 0.94 0.85 0.4  0.59 0.97 0.73 0.57 0.63 0.42 0.72 0.62 0.28\n",
      " 0.26 0.79 0.84 0.75 0.76 0.78 0.61 0.95 0.32 0.7  0.96 0.56 0.86 0.91\n",
      " 0.36 0.35 0.34 0.77 0.89 0.87 0.9  0.8 ]\n",
      "srv_serrer_rate [0.   1.   0.14 0.06 0.02 0.09 0.08 0.03 0.04 0.12 0.01 0.05 0.76 0.88\n",
      " 0.2  0.07 0.11 0.92 0.17 0.9  0.86 0.1  0.5  0.95 0.33 0.25 0.58 0.91\n",
      " 0.19 0.21 0.75 0.4  0.16 0.94 0.67 0.37 0.93 0.22 0.18 0.35 0.27 0.83\n",
      " 0.51 0.15 0.8  0.85 0.45 0.38 0.44 0.23 0.36]\n",
      "rerror_rate [0.   1.   0.8  0.85 0.87 0.25 0.94 0.33 0.88 0.9  0.95 0.2  0.03 0.02\n",
      " 0.99 0.08 0.82 0.91 0.86 0.12 0.83 0.05 0.01 0.75 0.5  0.11 0.7  0.92\n",
      " 0.93 0.14 0.89 0.96 0.78 0.1  0.29 0.07 0.98 0.26 0.97 0.4  0.77 0.81\n",
      " 0.34 0.17 0.76 0.73 0.35 0.79 0.32 0.56 0.69 0.71 0.67 0.84 0.09 0.04\n",
      " 0.6  0.19 0.27 0.06 0.72 0.58 0.22 0.21 0.68 0.28 0.74 0.64 0.65 0.36\n",
      " 0.24 0.62 0.66 0.23 0.37 0.43 0.31]\n",
      "srv_rerror_rate [0.   1.   0.5  0.25 0.33 0.2  0.06 0.02 0.17 0.29 0.04 0.08 0.1  0.75\n",
      " 0.11 0.12 0.14 0.09 0.96 0.07 0.6  0.05 0.4  0.03 0.67 0.95 0.82 0.71\n",
      " 0.01 0.22 0.43 0.87 0.27 0.81 0.69 0.73 0.83 0.86 0.13 0.94 0.79 0.8\n",
      " 0.18 0.38 0.21 0.92 0.62 0.85 0.88 0.93 0.37]\n",
      "same_srv_rate [1.   0.03 0.01 0.09 0.06 0.04 0.17 0.07 0.02 0.1  0.05 0.   0.08 0.13\n",
      " 0.11 0.22 0.16 0.12 0.14 0.21 0.5  0.15 0.52 0.4  0.19 0.46 0.36 0.33\n",
      " 0.35 0.67 0.75 0.24 0.88 0.26 0.31 0.97 0.25 0.18 0.2  0.98 0.83 0.8\n",
      " 0.29 0.32 0.99 0.42 0.59 0.9  0.23 0.39 0.27 0.49 0.94 0.45 0.3  0.44\n",
      " 0.41 0.74 0.47 0.64 0.43 0.55 0.48 0.34 0.89 0.62 0.57 0.86 0.54 0.95\n",
      " 0.92 0.28 0.6  0.51 0.38 0.76 0.78 0.96 0.73 0.93 0.79 0.56 0.37 0.87\n",
      " 0.85 0.53 0.7  0.91 0.61 0.65 0.71 0.77 0.58 0.81 0.72 0.82 0.69 0.68\n",
      " 0.63]\n",
      "diff_srv_rate [0.   0.07 0.06 0.05 0.08 1.   0.12 0.67 0.09 0.04 0.27 0.29 0.36 0.19\n",
      " 0.24 0.5  0.13 0.25 0.11 0.75 0.4  0.44 0.03 0.33 0.17 0.35 0.6  0.21\n",
      " 0.14 0.23 0.15 0.8  0.16 0.43 0.62 0.02 0.01 0.2  0.26 0.55 0.53 0.1\n",
      " 0.22 0.99 0.96 0.18 0.57 0.83 0.42 0.95 0.37 0.41 0.54 0.58 0.52 0.39\n",
      " 0.51 0.31 0.89 0.73 0.38 0.3  0.47 0.28 0.32 0.97 0.46 0.71 0.56 0.82\n",
      " 0.86 0.78 0.45 0.88 0.69 0.74 0.64 0.7 ]\n",
      "srv_diff_host_rate [0.01 1.   0.   0.38 0.08 0.4  0.15 0.18 0.29 0.19 0.17 0.33 0.05 0.11\n",
      " 0.5  0.07 0.67 0.06 0.04 0.13 0.27 0.12 0.1  0.31 0.42 0.22 0.14 0.43\n",
      " 0.03 0.2  0.21 0.75 0.09 0.25 0.16 0.02 0.23 0.24 0.36 0.3  0.6  0.8\n",
      " 0.71 0.44 0.47 0.56 0.26 0.28 0.57 0.37 0.83 0.55 0.62 0.32 0.35 0.88\n",
      " 0.77 0.45 0.86 0.64 0.41 0.54 0.46 0.7 ]\n",
      "dst_host_count [139   5 255  12   4  26 118 111  58 145 167  66  17   1  51   3  95  78\n",
      " 103   6  55  57 163  16  35 242  15 228  32  74  10   2 230  45  85  44\n",
      "  33 227 144 168  23  21  53 135   8  90  47  50  18 177  70  69 243 141\n",
      " 102  60  80 133  43   9 119 203 154  27  97 193 115  40  76  93 225 223\n",
      " 204 207  54 220  64 250 110 215   7 200  34  42  46 112 100 172  28 109\n",
      "  37  39  86  38  49 153  94  87 125  20 130 122  24  79  14  25 181  67\n",
      "  59 208 131  41 226 239  77  36  88  72  83 246  29 108 142  11 120  75\n",
      "  71 105 155 165 233  13  22  30 169  31  99 190 129 211 185 202 134 147\n",
      "  56 160 196 247  98 244 176  91  62  65 136 216 178 143 249 114 180  48\n",
      " 113 123 104 116  68  19 210 117 241 175 201 101 156 157 191 222 188 192\n",
      " 245 232 146  89 218 229  73 174 248  61  52 171 150 128 126 132 106 158\n",
      " 224 170 182 217 235 254 189  81 124 205 234 251 187 237 198 149 127 179\n",
      " 137 194 197 219 151 212 213 186  96 107 166 206 240 148 209 152 195 231\n",
      " 221 238 161 140 173 164 138 183 214 252 121 236  63 184 159 162 253  92\n",
      "  82  84 199   0]\n",
      "dst_host_srv_count [ 89 116 255   6   3   9  17 157  10  12   1 245 118   2  20  15   4  13\n",
      "   5  14 240 149  18 181  16 137 249 225 248  95 220  82 169   8  21  41\n",
      " 250  19  11   7 100 189  80 146 191 223 254 198 239 105 252  97  23  57\n",
      "  66 134 133 237 243 219 226 193  22 161 247  24 246 244  77  62 241 236\n",
      "  55 235  58 159 218 109  25 162  70 112  76  38  39  86 253 184  68 215\n",
      "  34 238 147 209 102 108 139 171 224  67  85 227  49 187  42 152 195 122\n",
      " 141 242  75  46 144 113  50  90 231 251  27 232 107 104  87 115  61 173\n",
      " 234 196 174  98  99  78 164 160 135 156  35 114 101  32  93  94 229 143\n",
      "  36 103  63 138  30  72 121  51  52  64  29  56  84  60 117 145 155 230\n",
      " 197 168  91  59  33  74 119 106 167 142 163 199 129  88 182 132 203  92\n",
      " 126 151 204 233 208 222  81 140  48 216  71  37 178  83 148  47 110 190\n",
      " 201 217 128  96 176 150 170  45 166  44 136 206 130 179  43 158 207  31\n",
      " 188 228  73 214 177 180  26 212 213 205 153 202 120  69  28 154 183 221\n",
      " 192  53 131  40 194 127 124 186 185 211  54 210 123 125 111 172 200  65\n",
      " 175  79 165   0]\n",
      "dst_host_same_srv_rate [0.64 1.   0.02 0.01 0.04 0.07 0.   0.96 0.08 0.12 0.06 0.05 0.94 0.41\n",
      " 0.97 0.98 0.88 0.86 0.74 0.68 0.03 0.33 0.55 0.89 0.24 0.57 0.84 0.46\n",
      " 0.37 0.09 0.99 0.72 0.22 0.87 0.71 0.11 0.34 0.28 0.95 0.93 0.92 0.78\n",
      " 0.3  0.6  0.47 0.1  0.82 0.67 0.76 0.38 0.73 0.62 0.43 0.59 0.5  0.9\n",
      " 0.75 0.52 0.44 0.2  0.17 0.91 0.36 0.58 0.69 0.54 0.16 0.31 0.85 0.27\n",
      " 0.63 0.53 0.56 0.45 0.4  0.42 0.48 0.79 0.25 0.61 0.39 0.26 0.32 0.35\n",
      " 0.14 0.83 0.19 0.8  0.51 0.65 0.18 0.7  0.66 0.15 0.77 0.49 0.13 0.23\n",
      " 0.21 0.29 0.81]\n",
      "dst_host_diff_srv_rate [0.01 0.   0.07 0.06 0.05 0.9  0.64 0.08 0.09 0.1  1.   0.87 0.03 0.12\n",
      " 0.59 0.02 0.85 0.04 0.11 0.65 0.69 0.89 0.97 0.58 0.13 0.55 0.15 0.63\n",
      " 0.94 0.67 0.84 0.56 0.86 0.72 0.29 0.76 0.27 0.53 0.82 0.26 0.91 0.6\n",
      " 0.5  0.51 0.66 0.88 0.19 0.33 0.71 0.37 0.24 0.44 0.14 0.46 0.54 0.74\n",
      " 0.18 0.17 0.42 0.83 0.62 0.7  0.47 0.25 0.52 0.57 0.8  0.73 0.61 0.31\n",
      " 0.68 0.48 0.22 0.23 0.49 0.79 0.45 0.75 0.41 0.78 0.81 0.36 0.43 0.77\n",
      " 0.4  0.96 0.16 0.34 0.3  0.39 0.21 0.98 0.35 0.28 0.2  0.92 0.93 0.32\n",
      " 0.38 0.95 0.99]\n",
      "dst_host_same_src_port_rate [0.01 0.2  1.   0.   0.08 0.04 0.11 0.02 0.06 0.94 0.33 0.74 0.17 0.03\n",
      " 0.55 0.07 0.24 0.1  0.84 0.5  0.46 0.87 0.05 0.98 0.12 0.22 0.14 0.25\n",
      " 0.34 0.28 0.85 0.67 0.96 0.95 0.38 0.93 0.09 0.62 0.99 0.88 0.26 0.16\n",
      " 0.36 0.76 0.69 0.41 0.81 0.18 0.31 0.27 0.45 0.4  0.48 0.15 0.71 0.39\n",
      " 0.32 0.78 0.3  0.86 0.35 0.19 0.8  0.92 0.51 0.68 0.61 0.91 0.59 0.97\n",
      " 0.9  0.43 0.58 0.83 0.53 0.82 0.37 0.23 0.21 0.29 0.65 0.49 0.56 0.89\n",
      " 0.79 0.72 0.47 0.75 0.13 0.44 0.77 0.42 0.57 0.63 0.73 0.54 0.7  0.52\n",
      " 0.6  0.64 0.66]\n",
      "dst_host_srv_diff_host_rate [0.   0.02 0.17 0.06 0.01 0.22 0.05 0.1  0.03 0.5  0.08 0.27 1.   0.07\n",
      " 0.09 0.04 0.11 0.13 0.18 0.26 0.4  0.15 0.44 0.14 0.16 0.19 0.29 0.43\n",
      " 0.12 0.21 0.57 0.25 0.2  0.34 0.23 0.56 0.51 0.52 0.55 0.33 0.53 0.67\n",
      " 0.24 0.36 0.32 0.75 0.31 0.45 0.3  0.38 0.28 0.6  0.42 0.37 0.41 0.35\n",
      " 0.46 0.54 0.7  0.47 0.48 0.39 0.58 0.62 0.8 ]\n",
      "dst_host_serror_rate [0.   1.   0.31 0.01 0.17 0.16 0.14 0.27 0.06 0.03 0.02 0.04 0.09 0.65\n",
      " 0.07 0.33 0.08 0.13 0.96 0.2  0.64 0.56 0.05 0.15 0.91 0.18 0.42 0.12\n",
      " 0.53 0.11 0.68 0.69 0.3  0.32 0.99 0.24 0.35 0.25 0.87 0.97 0.1  0.34\n",
      " 0.94 0.6  0.92 0.67 0.23 0.49 0.5  0.62 0.93 0.95 0.78 0.37 0.45 0.89\n",
      " 0.52 0.36 0.81 0.85 0.29 0.98 0.28 0.19 0.38 0.84 0.76 0.57 0.79 0.73\n",
      " 0.77 0.22 0.9  0.83 0.21 0.4  0.58 0.61 0.47 0.26 0.72 0.46 0.51 0.86\n",
      " 0.48 0.54 0.41 0.55 0.39 0.75 0.59 0.7  0.82 0.88 0.71 0.44 0.43 0.8\n",
      " 0.66 0.74]\n",
      "dst_host_srv_serror_rate [0.   1.   0.01 0.02 0.06 0.69 0.03 0.14 0.33 0.78 0.11 0.56 0.04 0.98\n",
      " 0.16 0.68 0.96 0.17 0.87 0.95 0.97 0.31 0.25 0.62 0.6  0.75 0.5  0.05\n",
      " 0.83 0.09 0.91 0.08 0.3  0.4  0.94 0.85 0.07 0.1  0.9  0.67 0.2  0.57\n",
      " 0.12 0.32 0.48 0.29 0.79 0.74 0.55 0.18 0.86 0.38 0.63 0.88 0.84 0.81\n",
      " 0.64 0.8  0.92 0.13 0.52 0.24 0.93 0.82 0.47 0.23 0.66 0.53 0.42 0.45\n",
      " 0.15 0.46]\n",
      "dst_host_rerror_rate [0.   0.01 1.   0.6  0.69 0.02 0.84 0.86 0.73 0.09 0.38 0.05 0.92 0.2\n",
      " 0.07 0.33 0.04 0.06 0.16 0.94 0.89 0.77 0.58 0.3  0.52 0.49 0.27 0.48\n",
      " 0.93 0.47 0.18 0.75 0.98 0.03 0.96 0.87 0.68 0.19 0.57 0.08 0.36 0.25\n",
      " 0.83 0.39 0.51 0.59 0.17 0.82 0.88 0.7  0.12 0.85 0.9  0.64 0.28 0.24\n",
      " 0.14 0.35 0.55 0.54 0.53 0.44 0.11 0.22 0.41 0.97 0.99 0.76 0.8  0.56\n",
      " 0.29 0.95 0.5  0.91 0.34 0.81 0.37 0.74 0.15 0.13 0.1  0.66 0.32 0.65\n",
      " 0.79 0.31 0.4  0.63 0.43 0.21 0.78 0.26 0.62 0.45 0.23 0.71 0.42 0.67\n",
      " 0.72 0.61 0.46]\n",
      "dst_host_srv_rerror_rate [0.   0.01 1.   0.04 0.53 0.84 0.85 0.05 0.87 0.98 0.35 0.02 0.06 0.5\n",
      " 0.72 0.94 0.99 0.76 0.66 0.03 0.59 0.69 0.55 0.48 0.6  0.74 0.19 0.67\n",
      " 0.73 0.8  0.07 0.96 0.68 0.89 0.17 0.08 0.83 0.82 0.97 0.71 0.33 0.64\n",
      " 0.93 0.54 0.16 0.12 0.88 0.29 0.44 0.91 0.75 0.65 0.51 0.27 0.52 0.92\n",
      " 0.63 0.49 0.58 0.78 0.15 0.81 0.13 0.7  0.95 0.62 0.1  0.38 0.31 0.2\n",
      " 0.4  0.79 0.21 0.57 0.36 0.9  0.24 0.61 0.56 0.22 0.34 0.09 0.41 0.42\n",
      " 0.86 0.43 0.45 0.25 0.37 0.47 0.3  0.39 0.77 0.32 0.26 0.46 0.18 0.28\n",
      " 0.14 0.11 0.23]\n",
      "intrusion [\"b'normal.'\" \"b'smurf.'\" \"b'neptune.'\" \"b'warezclient.'\" \"b'satan.'\"\n",
      " \"b'back.'\" \"b'ipsweep.'\" \"b'portsweep.'\" \"b'teardrop.'\"\n",
      " \"b'guess_passwd.'\" \"b'nmap.'\" \"b'imap.'\" \"b'pod.'\" \"b'phf.'\"\n",
      " \"b'loadmodule.'\" \"b'buffer_overflow.'\" \"b'warezmaster.'\" \"b'land.'\"\n",
      " \"b'rootkit.'\" \"b'perl.'\" \"b'multihop.'\" \"b'ftp_write.'\" \"b'spy.'\"]\n"
     ]
    }
   ],
   "source": [
    "for i in data.columns:\n",
    "    print(i, data[i].unique())"
   ]
  },
  {
   "cell_type": "code",
   "execution_count": 7,
   "id": "26f75124",
   "metadata": {},
   "outputs": [
    {
     "data": {
      "text/plain": [
       "duration                         int64\n",
       "protocol_type                   object\n",
       "service                         object\n",
       "flag                            object\n",
       "src_bytes                        int64\n",
       "dst_bytes                        int64\n",
       "land                             int64\n",
       "wrong_fragment                   int64\n",
       "urgent                           int64\n",
       "hot                              int64\n",
       "num_failed_logins                int64\n",
       "logged_in                        int64\n",
       "num_compromised                  int64\n",
       "root_shell                       int64\n",
       "su_attempted                     int64\n",
       "num_root                         int64\n",
       "num_file_creations               int64\n",
       "num_shells                       int64\n",
       "num_access_files                 int64\n",
       "num_outbound_cmds                int64\n",
       "is_host_login                    int64\n",
       "is_guest_login                   int64\n",
       "count                            int64\n",
       "srv_count                        int64\n",
       "serror_rate                    float64\n",
       "srv_serrer_rate                float64\n",
       "rerror_rate                    float64\n",
       "srv_rerror_rate                float64\n",
       "same_srv_rate                  float64\n",
       "diff_srv_rate                  float64\n",
       "srv_diff_host_rate             float64\n",
       "dst_host_count                   int64\n",
       "dst_host_srv_count               int64\n",
       "dst_host_same_srv_rate         float64\n",
       "dst_host_diff_srv_rate         float64\n",
       "dst_host_same_src_port_rate    float64\n",
       "dst_host_srv_diff_host_rate    float64\n",
       "dst_host_serror_rate           float64\n",
       "dst_host_srv_serror_rate       float64\n",
       "dst_host_rerror_rate           float64\n",
       "dst_host_srv_rerror_rate       float64\n",
       "intrusion                       object\n",
       "dtype: object"
      ]
     },
     "execution_count": 7,
     "metadata": {},
     "output_type": "execute_result"
    }
   ],
   "source": [
    "data.dtypes"
   ]
  },
  {
   "cell_type": "markdown",
   "id": "4bdd8fe6",
   "metadata": {},
   "source": [
    "# Splitting of data into target and feature columns"
   ]
  },
  {
   "cell_type": "markdown",
   "id": "43a9894c",
   "metadata": {},
   "source": [
    "# Feature columns"
   ]
  },
  {
   "cell_type": "code",
   "execution_count": 88,
   "id": "69dfe7f6",
   "metadata": {},
   "outputs": [],
   "source": [
    "X=data.drop(['intrusion'],axis=1)"
   ]
  },
  {
   "cell_type": "code",
   "execution_count": 89,
   "id": "321a5eae",
   "metadata": {},
   "outputs": [
    {
     "data": {
      "text/plain": [
       "(494021, 41)"
      ]
     },
     "execution_count": 89,
     "metadata": {},
     "output_type": "execute_result"
    }
   ],
   "source": [
    "X.shape"
   ]
  },
  {
   "cell_type": "markdown",
   "id": "f39e0aea",
   "metadata": {},
   "source": [
    "# Label Encoding Feature columns"
   ]
  },
  {
   "cell_type": "code",
   "execution_count": 90,
   "id": "bd3cf9ad",
   "metadata": {},
   "outputs": [],
   "source": [
    "h=X.columns"
   ]
  },
  {
   "cell_type": "code",
   "execution_count": 91,
   "id": "309c4ca6",
   "metadata": {},
   "outputs": [],
   "source": [
    "from sklearn.preprocessing import LabelEncoder\n",
    "label_en=LabelEncoder()\n",
    "for i in h:\n",
    "        X[i] = label_en.fit_transform(X[i])  "
   ]
  },
  {
   "cell_type": "code",
   "execution_count": 92,
   "id": "3f32edcf",
   "metadata": {},
   "outputs": [
    {
     "data": {
      "text/plain": [
       "duration                       int64\n",
       "protocol_type                  int32\n",
       "service                        int32\n",
       "flag                           int32\n",
       "src_bytes                      int64\n",
       "dst_bytes                      int64\n",
       "land                           int64\n",
       "wrong_fragment                 int64\n",
       "urgent                         int64\n",
       "hot                            int64\n",
       "num_failed_logins              int64\n",
       "logged_in                      int64\n",
       "num_compromised                int64\n",
       "root_shell                     int64\n",
       "su_attempted                   int64\n",
       "num_root                       int64\n",
       "num_file_creations             int64\n",
       "num_shells                     int64\n",
       "num_access_files               int64\n",
       "num_outbound_cmds              int64\n",
       "is_host_login                  int64\n",
       "is_guest_login                 int64\n",
       "count                          int64\n",
       "srv_count                      int64\n",
       "serror_rate                    int64\n",
       "srv_serrer_rate                int64\n",
       "rerror_rate                    int64\n",
       "srv_rerror_rate                int64\n",
       "same_srv_rate                  int64\n",
       "diff_srv_rate                  int64\n",
       "srv_diff_host_rate             int64\n",
       "dst_host_count                 int64\n",
       "dst_host_srv_count             int64\n",
       "dst_host_same_srv_rate         int64\n",
       "dst_host_diff_srv_rate         int64\n",
       "dst_host_same_src_port_rate    int64\n",
       "dst_host_srv_diff_host_rate    int64\n",
       "dst_host_serror_rate           int64\n",
       "dst_host_srv_serror_rate       int64\n",
       "dst_host_rerror_rate           int64\n",
       "dst_host_srv_rerror_rate       int64\n",
       "dtype: object"
      ]
     },
     "execution_count": 92,
     "metadata": {},
     "output_type": "execute_result"
    }
   ],
   "source": [
    "X.dtypes"
   ]
  },
  {
   "cell_type": "code",
   "execution_count": 93,
   "id": "206f7086",
   "metadata": {},
   "outputs": [],
   "source": [
    "x=X.iloc[:,range(0,41)].values "
   ]
  },
  {
   "cell_type": "markdown",
   "id": "8923f310",
   "metadata": {},
   "source": [
    "# Target column"
   ]
  },
  {
   "cell_type": "code",
   "execution_count": 94,
   "id": "07199d11",
   "metadata": {},
   "outputs": [],
   "source": [
    "y=pd.DataFrame(data['intrusion'])"
   ]
  },
  {
   "cell_type": "code",
   "execution_count": 95,
   "id": "64d78f5f",
   "metadata": {},
   "outputs": [
    {
     "data": {
      "text/html": [
       "<div>\n",
       "<style scoped>\n",
       "    .dataframe tbody tr th:only-of-type {\n",
       "        vertical-align: middle;\n",
       "    }\n",
       "\n",
       "    .dataframe tbody tr th {\n",
       "        vertical-align: top;\n",
       "    }\n",
       "\n",
       "    .dataframe thead th {\n",
       "        text-align: right;\n",
       "    }\n",
       "</style>\n",
       "<table border=\"1\" class=\"dataframe\">\n",
       "  <thead>\n",
       "    <tr style=\"text-align: right;\">\n",
       "      <th></th>\n",
       "      <th>intrusion</th>\n",
       "    </tr>\n",
       "  </thead>\n",
       "  <tbody>\n",
       "    <tr>\n",
       "      <th>0</th>\n",
       "      <td>b'normal.'</td>\n",
       "    </tr>\n",
       "    <tr>\n",
       "      <th>1</th>\n",
       "      <td>b'normal.'</td>\n",
       "    </tr>\n",
       "    <tr>\n",
       "      <th>2</th>\n",
       "      <td>b'smurf.'</td>\n",
       "    </tr>\n",
       "    <tr>\n",
       "      <th>3</th>\n",
       "      <td>b'smurf.'</td>\n",
       "    </tr>\n",
       "    <tr>\n",
       "      <th>4</th>\n",
       "      <td>b'neptune.'</td>\n",
       "    </tr>\n",
       "    <tr>\n",
       "      <th>...</th>\n",
       "      <td>...</td>\n",
       "    </tr>\n",
       "    <tr>\n",
       "      <th>494016</th>\n",
       "      <td>b'neptune.'</td>\n",
       "    </tr>\n",
       "    <tr>\n",
       "      <th>494017</th>\n",
       "      <td>b'smurf.'</td>\n",
       "    </tr>\n",
       "    <tr>\n",
       "      <th>494018</th>\n",
       "      <td>b'normal.'</td>\n",
       "    </tr>\n",
       "    <tr>\n",
       "      <th>494019</th>\n",
       "      <td>b'normal.'</td>\n",
       "    </tr>\n",
       "    <tr>\n",
       "      <th>494020</th>\n",
       "      <td>b'neptune.'</td>\n",
       "    </tr>\n",
       "  </tbody>\n",
       "</table>\n",
       "<p>494021 rows × 1 columns</p>\n",
       "</div>"
      ],
      "text/plain": [
       "          intrusion\n",
       "0        b'normal.'\n",
       "1        b'normal.'\n",
       "2         b'smurf.'\n",
       "3         b'smurf.'\n",
       "4       b'neptune.'\n",
       "...             ...\n",
       "494016  b'neptune.'\n",
       "494017    b'smurf.'\n",
       "494018   b'normal.'\n",
       "494019   b'normal.'\n",
       "494020  b'neptune.'\n",
       "\n",
       "[494021 rows x 1 columns]"
      ]
     },
     "execution_count": 95,
     "metadata": {},
     "output_type": "execute_result"
    }
   ],
   "source": [
    "y"
   ]
  },
  {
   "cell_type": "code",
   "execution_count": 96,
   "id": "ce13de3d",
   "metadata": {},
   "outputs": [],
   "source": [
    "Y=y.iloc[:,0].values"
   ]
  },
  {
   "cell_type": "code",
   "execution_count": 97,
   "id": "16177e2d",
   "metadata": {},
   "outputs": [
    {
     "data": {
      "text/plain": [
       "(494021,)"
      ]
     },
     "execution_count": 97,
     "metadata": {},
     "output_type": "execute_result"
    }
   ],
   "source": [
    "Y.shape"
   ]
  },
  {
   "cell_type": "markdown",
   "id": "3d775758",
   "metadata": {},
   "source": [
    "# Splitting of data"
   ]
  },
  {
   "cell_type": "code",
   "execution_count": 98,
   "id": "8b2bcaf0",
   "metadata": {},
   "outputs": [],
   "source": [
    "from sklearn.model_selection import train_test_split\n",
    "x_train,x_test,y_train,y_test=train_test_split(x,Y,test_size=0.2,random_state=0)"
   ]
  },
  {
   "cell_type": "code",
   "execution_count": 47,
   "id": "72723536",
   "metadata": {},
   "outputs": [
    {
     "data": {
      "text/plain": [
       "(370515, 41)"
      ]
     },
     "execution_count": 47,
     "metadata": {},
     "output_type": "execute_result"
    }
   ],
   "source": [
    "x_train.shape"
   ]
  },
  {
   "cell_type": "code",
   "execution_count": 48,
   "id": "ddd66543",
   "metadata": {},
   "outputs": [
    {
     "data": {
      "text/plain": [
       "(370515,)"
      ]
     },
     "execution_count": 48,
     "metadata": {},
     "output_type": "execute_result"
    }
   ],
   "source": [
    "y_train.shape"
   ]
  },
  {
   "cell_type": "code",
   "execution_count": 49,
   "id": "7cd5d7dc",
   "metadata": {},
   "outputs": [
    {
     "data": {
      "text/plain": [
       "(123506, 41)"
      ]
     },
     "execution_count": 49,
     "metadata": {},
     "output_type": "execute_result"
    }
   ],
   "source": [
    "x_test.shape"
   ]
  },
  {
   "cell_type": "code",
   "execution_count": 50,
   "id": "ef557606",
   "metadata": {},
   "outputs": [
    {
     "data": {
      "text/plain": [
       "(123506,)"
      ]
     },
     "execution_count": 50,
     "metadata": {},
     "output_type": "execute_result"
    }
   ],
   "source": [
    "y_test.shape"
   ]
  },
  {
   "cell_type": "markdown",
   "id": "6e1390cb",
   "metadata": {},
   "source": [
    "# Naiive Bayes Calssifier"
   ]
  },
  {
   "cell_type": "code",
   "execution_count": 99,
   "id": "93df0a46",
   "metadata": {},
   "outputs": [
    {
     "data": {
      "text/plain": [
       "GaussianNB()"
      ]
     },
     "execution_count": 99,
     "metadata": {},
     "output_type": "execute_result"
    }
   ],
   "source": [
    "from sklearn.naive_bayes import GaussianNB\n",
    "classifier=GaussianNB()\n",
    "classifier.fit(x_train,y_train)"
   ]
  },
  {
   "cell_type": "code",
   "execution_count": 100,
   "id": "3527374c",
   "metadata": {},
   "outputs": [],
   "source": [
    "y_pred=classifier.predict(x_test)"
   ]
  },
  {
   "cell_type": "code",
   "execution_count": 101,
   "id": "33676fa0",
   "metadata": {},
   "outputs": [
    {
     "data": {
      "text/plain": [
       "array([\"b'smurf.'\", \"b'normal.'\", \"b'smurf.'\", ..., \"b'normal.'\",\n",
       "       \"b'neptune.'\", \"b'smurf.'\"], dtype='<U19')"
      ]
     },
     "execution_count": 101,
     "metadata": {},
     "output_type": "execute_result"
    }
   ],
   "source": [
    "y_pred"
   ]
  },
  {
   "cell_type": "code",
   "execution_count": 102,
   "id": "ea80c4cc",
   "metadata": {},
   "outputs": [
    {
     "name": "stdout",
     "output_type": "stream",
     "text": [
      "accuracy is:  0.9659632609685744\n"
     ]
    }
   ],
   "source": [
    "from sklearn.metrics import accuracy_score,confusion_matrix\n",
    "a=accuracy_score(y_test,y_pred)\n",
    "print(\"accuracy is: \",a)"
   ]
  },
  {
   "cell_type": "code",
   "execution_count": 103,
   "id": "26829173",
   "metadata": {},
   "outputs": [
    {
     "data": {
      "text/plain": [
       "BernoulliNB()"
      ]
     },
     "execution_count": 103,
     "metadata": {},
     "output_type": "execute_result"
    }
   ],
   "source": [
    "from sklearn.naive_bayes import BernoulliNB\n",
    "classifier1=BernoulliNB()\n",
    "classifier1.fit(x_train,y_train)"
   ]
  },
  {
   "cell_type": "code",
   "execution_count": 104,
   "id": "c28ccd47",
   "metadata": {},
   "outputs": [],
   "source": [
    "y_pred1=classifier1.predict(x_test)"
   ]
  },
  {
   "cell_type": "code",
   "execution_count": 105,
   "id": "00092772",
   "metadata": {},
   "outputs": [
    {
     "data": {
      "text/plain": [
       "array([\"b'smurf.'\", \"b'normal.'\", \"b'smurf.'\", ..., \"b'normal.'\",\n",
       "       \"b'neptune.'\", \"b'smurf.'\"], dtype='<U19')"
      ]
     },
     "execution_count": 105,
     "metadata": {},
     "output_type": "execute_result"
    }
   ],
   "source": [
    "y_pred1"
   ]
  },
  {
   "cell_type": "code",
   "execution_count": 106,
   "id": "82cc8689",
   "metadata": {},
   "outputs": [
    {
     "name": "stdout",
     "output_type": "stream",
     "text": [
      "accuracy is:  0.9911644147563382\n"
     ]
    }
   ],
   "source": [
    "a1=accuracy_score(y_test,y_pred1)\n",
    "print(\"accuracy is: \",a1)"
   ]
  },
  {
   "cell_type": "markdown",
   "id": "76a7a66a",
   "metadata": {},
   "source": [
    "# Conclusion:"
   ]
  },
  {
   "cell_type": "markdown",
   "id": "42fed193",
   "metadata": {},
   "source": [
    "We can see that BernoulliNB Classifier have higher accuracy."
   ]
  },
  {
   "cell_type": "markdown",
   "id": "2c37bbdb",
   "metadata": {},
   "source": [
    "# SUBMITTED BY:"
   ]
  },
  {
   "cell_type": "code",
   "execution_count": null,
   "id": "c8c579b8",
   "metadata": {},
   "outputs": [],
   "source": [
    "SRUTHY B S\n",
    "GOKUL M S\n",
    "ROSHAN K RAJU\n",
    "NEERAJA RAVI"
   ]
  }
 ],
 "metadata": {
  "kernelspec": {
   "display_name": "Python 3",
   "language": "python",
   "name": "python3"
  },
  "language_info": {
   "codemirror_mode": {
    "name": "ipython",
    "version": 3
   },
   "file_extension": ".py",
   "mimetype": "text/x-python",
   "name": "python",
   "nbconvert_exporter": "python",
   "pygments_lexer": "ipython3",
   "version": "3.8.8"
  }
 },
 "nbformat": 4,
 "nbformat_minor": 5
}
